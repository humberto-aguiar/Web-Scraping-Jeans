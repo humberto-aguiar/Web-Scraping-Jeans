{
 "cells": [
  {
   "cell_type": "code",
   "execution_count": 16,
   "metadata": {},
   "outputs": [],
   "source": [
    "import pandas as pd\n",
    "\n",
    "from selenium import webdriver\n",
    "from selenium.webdriver.firefox.options import Options\n",
    "from selenium.webdriver.common.by import By\n",
    "from selenium.webdriver.support.wait import WebDriverWait\n",
    "from selenium.webdriver.support import expected_conditions as EC"
   ]
  },
  {
   "cell_type": "code",
   "execution_count": 2,
   "metadata": {},
   "outputs": [],
   "source": [
    "links = ['https://www2.hm.com/en_us/productpage.0427159001.html','https://www2.hm.com/en_us/productpage.0427159002.html','https://www2.hm.com/en_us/productpage.0427159003.html','https://www2.hm.com/en_us/productpage.0427159004.html','https://www2.hm.com/en_us/productpage.0427159005.html']"
   ]
  },
  {
   "cell_type": "code",
   "execution_count": 18,
   "metadata": {},
   "outputs": [],
   "source": [
    "### Instantiating a Web Driver\n",
    "# starting drive\n",
    "\n",
    "options = Options()\n",
    "options.headless = True\n",
    "driver = webdriver.Firefox(options=options)"
   ]
  },
  {
   "cell_type": "code",
   "execution_count": 17,
   "metadata": {},
   "outputs": [
    {
     "name": "stdout",
     "output_type": "stream",
     "text": [
      "0427159001\n",
      "0427159002\n",
      "0427159003\n",
      "0427159004\n",
      "0427159005\n"
     ]
    }
   ],
   "source": [
    "df_comp = pd.DataFrame()\n",
    "\n",
    "for idx, link in enumerate(links):\n",
    "\n",
    "    # sku\n",
    "    sku = link.split('.')[3]\n",
    "    print(sku)"
   ]
  },
  {
   "cell_type": "code",
   "execution_count": 19,
   "metadata": {},
   "outputs": [
    {
     "name": "stdout",
     "output_type": "stream",
     "text": [
      "scraping page 1/5: https://www2.hm.com/en_us/productpage.0427159001.html\n",
      "scraping page 2/5: https://www2.hm.com/en_us/productpage.0427159002.html\n",
      "scraping page 3/5: https://www2.hm.com/en_us/productpage.0427159003.html\n",
      "scraping page 4/5: https://www2.hm.com/en_us/productpage.0427159004.html\n",
      "scraping page 5/5: https://www2.hm.com/en_us/productpage.0427159005.html\n"
     ]
    }
   ],
   "source": [
    "df_comp = pd.DataFrame()\n",
    "\n",
    "for idx, link in enumerate(links):\n",
    "\n",
    "    # sku\n",
    "    sku = link.split('.')[3]\n",
    "    print('scraping page {}/{}: {}'.format( idx+1, len(links), link))\n",
    "    \n",
    "    # load web page\n",
    "    driver.get(link)\n",
    "    \n",
    "    # get price\n",
    "    # try this class (for no promo days)\n",
    "    class_price = \"ProductPrice-module--productItemPrice__2i2Hc\"\n",
    "    element = WebDriverWait(driver, 10).until( EC.presence_of_element_located( (By.CLASS_NAME, class_price) ) )\n",
    "    price = element.text\n",
    "\n",
    "    # if element returns empty, try this other class\n",
    "    if element.text == '':\n",
    "        class_price = \"price.parbase\"\n",
    "        element = WebDriverWait(driver, 10).until( EC.presence_of_element_located( (By.CLASS_NAME, class_price) ) )\n",
    "        price = element.text\n",
    "        \n",
    "        if price == '':\n",
    "            price = 'NA'\n",
    "    \n",
    "    # get product description   \n",
    "    class_desc = \"ProductDescription-module--descriptionText__1zy9P\"      \n",
    "    # test if description exists\n",
    "    try: \n",
    "        content = WebDriverWait(driver, 10).until(EC.presence_of_element_located( (By.CLASS_NAME, class_desc) ))\n",
    "        desc = content.text\n",
    "    except:\n",
    "        desc = 'NA'\n",
    "    \n",
    "    # get text\n",
    "    class_text = 'ProductAttributesList-module--descriptionListItem__3vUL2'\n",
    "    contents = WebDriverWait(driver, timeout=10).until( EC.presence_of_all_elements_located( (By.CLASS_NAME, class_text) ) )\n",
    "    \n",
    "    # concatenate all lines of text\n",
    "    text = str()\n",
    "    # list with all text\n",
    "    text = [text + line.text  for line  in contents]\n",
    "\n",
    "    # separate fit and composition from text\n",
    "    # if fit or composition is not informed they'll return NA\n",
    "    fit = 'NA'\n",
    "    composition = 'NA'\n",
    "    for element in text:\n",
    "        if 'fit' in element:\n",
    "            fit = element\n",
    "        if 'Composition' in element:\n",
    "            composition = element    \n",
    "    \n",
    "    # saving raw text\n",
    "    text_raw =' /'.join(text)\n",
    "    \n",
    "    # saving results\n",
    "    df_aux = pd.DataFrame( {'sku' : sku, 'price' : price, 'fit' : fit, 'composition' : composition, 'description' : desc ,'text' : text_raw,}, index = [0] )\n",
    "    df_comp = pd.concat( [df_comp, df_aux], axis = 0 )     \n",
    "\n",
    "df_comp.reset_index(inplace = True, drop = True)"
   ]
  },
  {
   "cell_type": "code",
   "execution_count": 20,
   "metadata": {},
   "outputs": [
    {
     "data": {
      "text/html": [
       "<div>\n",
       "<style scoped>\n",
       "    .dataframe tbody tr th:only-of-type {\n",
       "        vertical-align: middle;\n",
       "    }\n",
       "\n",
       "    .dataframe tbody tr th {\n",
       "        vertical-align: top;\n",
       "    }\n",
       "\n",
       "    .dataframe thead th {\n",
       "        text-align: right;\n",
       "    }\n",
       "</style>\n",
       "<table border=\"1\" class=\"dataframe\">\n",
       "  <thead>\n",
       "    <tr style=\"text-align: right;\">\n",
       "      <th></th>\n",
       "      <th>sku</th>\n",
       "      <th>price</th>\n",
       "      <th>fit</th>\n",
       "      <th>composition</th>\n",
       "      <th>description</th>\n",
       "      <th>text</th>\n",
       "    </tr>\n",
       "  </thead>\n",
       "  <tbody>\n",
       "    <tr>\n",
       "      <th>0</th>\n",
       "      <td>0427159001</td>\n",
       "      <td>$39.99</td>\n",
       "      <td>FitSkinny fit</td>\n",
       "      <td>CompositionCotton 91%, Polyester 7%, Spandex 2%</td>\n",
       "      <td>5-pocket jeans in washed stretch denim. Heavil...</td>\n",
       "      <td>FitSkinny fit /CompositionCotton 91%, Polyeste...</td>\n",
       "    </tr>\n",
       "    <tr>\n",
       "      <th>1</th>\n",
       "      <td>0427159002</td>\n",
       "      <td>$39.99</td>\n",
       "      <td>FitSkinny fit</td>\n",
       "      <td>CompositionCotton 93%, Polyester 6%, Spandex 1%</td>\n",
       "      <td>5-pocket jeans in washed stretch denim. Heavil...</td>\n",
       "      <td>FitSkinny fit /CompositionCotton 93%, Polyeste...</td>\n",
       "    </tr>\n",
       "    <tr>\n",
       "      <th>2</th>\n",
       "      <td>0427159003</td>\n",
       "      <td>$39.99</td>\n",
       "      <td>FitSkinny fit</td>\n",
       "      <td>CompositionCotton 93%, Polyester 6%, Spandex 1%</td>\n",
       "      <td>5-pocket jeans in washed stretch denim. Heavil...</td>\n",
       "      <td>FitSkinny fit /CompositionCotton 93%, Polyeste...</td>\n",
       "    </tr>\n",
       "    <tr>\n",
       "      <th>3</th>\n",
       "      <td>0427159004</td>\n",
       "      <td>$39.99</td>\n",
       "      <td>FitSkinny fit</td>\n",
       "      <td>CompositionCotton 99%, Spandex 1%</td>\n",
       "      <td>5-pocket jeans in washed stretch denim. Heavil...</td>\n",
       "      <td>FitSkinny fit /CompositionCotton 99%, Spandex ...</td>\n",
       "    </tr>\n",
       "    <tr>\n",
       "      <th>4</th>\n",
       "      <td>0427159005</td>\n",
       "      <td>$39.99</td>\n",
       "      <td>FitSkinny fit</td>\n",
       "      <td>CompositionCotton 72%, Polyester 20%, Modal 7%...</td>\n",
       "      <td>5-pocket jeans in washed stretch denim. Heavil...</td>\n",
       "      <td>FitSkinny fit /CompositionCotton 72%, Polyeste...</td>\n",
       "    </tr>\n",
       "  </tbody>\n",
       "</table>\n",
       "</div>"
      ],
      "text/plain": [
       "          sku   price            fit  \\\n",
       "0  0427159001  $39.99  FitSkinny fit   \n",
       "1  0427159002  $39.99  FitSkinny fit   \n",
       "2  0427159003  $39.99  FitSkinny fit   \n",
       "3  0427159004  $39.99  FitSkinny fit   \n",
       "4  0427159005  $39.99  FitSkinny fit   \n",
       "\n",
       "                                         composition  \\\n",
       "0    CompositionCotton 91%, Polyester 7%, Spandex 2%   \n",
       "1    CompositionCotton 93%, Polyester 6%, Spandex 1%   \n",
       "2    CompositionCotton 93%, Polyester 6%, Spandex 1%   \n",
       "3                  CompositionCotton 99%, Spandex 1%   \n",
       "4  CompositionCotton 72%, Polyester 20%, Modal 7%...   \n",
       "\n",
       "                                         description  \\\n",
       "0  5-pocket jeans in washed stretch denim. Heavil...   \n",
       "1  5-pocket jeans in washed stretch denim. Heavil...   \n",
       "2  5-pocket jeans in washed stretch denim. Heavil...   \n",
       "3  5-pocket jeans in washed stretch denim. Heavil...   \n",
       "4  5-pocket jeans in washed stretch denim. Heavil...   \n",
       "\n",
       "                                                text  \n",
       "0  FitSkinny fit /CompositionCotton 91%, Polyeste...  \n",
       "1  FitSkinny fit /CompositionCotton 93%, Polyeste...  \n",
       "2  FitSkinny fit /CompositionCotton 93%, Polyeste...  \n",
       "3  FitSkinny fit /CompositionCotton 99%, Spandex ...  \n",
       "4  FitSkinny fit /CompositionCotton 72%, Polyeste...  "
      ]
     },
     "execution_count": 20,
     "metadata": {},
     "output_type": "execute_result"
    }
   ],
   "source": [
    "df_comp"
   ]
  }
 ],
 "metadata": {
  "interpreter": {
   "hash": "e351bda13fd12210c56cd25328508007dc56e1370bfddb216f0f5bba4101204e"
  },
  "kernelspec": {
   "display_name": "Python 3.8.0 64-bit ('web_scraping')",
   "language": "python",
   "name": "python3"
  },
  "language_info": {
   "codemirror_mode": {
    "name": "ipython",
    "version": 3
   },
   "file_extension": ".py",
   "mimetype": "text/x-python",
   "name": "python",
   "nbconvert_exporter": "python",
   "pygments_lexer": "ipython3",
   "version": "3.8.0"
  },
  "orig_nbformat": 4
 },
 "nbformat": 4,
 "nbformat_minor": 2
}
