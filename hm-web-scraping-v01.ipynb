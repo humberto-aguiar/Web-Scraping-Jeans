{
 "cells": [
  {
   "cell_type": "markdown",
   "metadata": {},
   "source": [
    "# Imports"
   ]
  },
  {
   "cell_type": "code",
   "execution_count": 1,
   "metadata": {},
   "outputs": [],
   "source": [
    "import pandas as pd\n",
    "import numpy as np\n",
    "from bs4 import BeautifulSoup\n",
    "import requests\n",
    "from datetime import datetime\n",
    "import re\n",
    "from sqlalchemy import create_engine\n",
    "import sqlite3\n",
    "import lxml"
   ]
  },
  {
   "cell_type": "code",
   "execution_count": 2,
   "metadata": {},
   "outputs": [],
   "source": [
    "# functions\n",
    "\n",
    "def request_soup(url_link):    \n",
    "    headers = {'User-Agent' : 'Mozilla/5.0 (Macintosh; Intel Mac OS X x.y; rv:42.0) Gecko/20100101 Firefox/42.0'}    \n",
    "    page = requests.get( url, headers = headers)\n",
    "    soup_obj = BeautifulSoup(page.text, 'html.parser')\n",
    "    return( soup_obj )"
   ]
  },
  {
   "cell_type": "markdown",
   "metadata": {},
   "source": [
    "# Data Requesting"
   ]
  },
  {
   "cell_type": "markdown",
   "metadata": {},
   "source": [
    "##  Home Page Scraping"
   ]
  },
  {
   "cell_type": "code",
   "execution_count": 3,
   "metadata": {},
   "outputs": [],
   "source": [
    "# all products url\n",
    "url = 'https://www2.hm.com/en_us/men/products/jeans.html'\n",
    "\n",
    "# headers for request\n",
    "headers = {'User-Agent' : 'Mozilla/5.0 (Macintosh; Intel Mac OS X x.y; rv:42.0) Gecko/20100101 Firefox/42.0'}\n",
    "\n",
    "# requesting\n",
    "page = requests.get(url=url, headers=headers)\n",
    "\n",
    "# instatiating bs4 object\n",
    "soup = BeautifulSoup(page.text, 'html.parser')"
   ]
  },
  {
   "cell_type": "code",
   "execution_count": 4,
   "metadata": {},
   "outputs": [],
   "source": [
    "# finding load more products element\n",
    "p = soup.find('div', class_='load-more-products')\n",
    "\n",
    "# all products\n",
    "all_products = int(p.find('h2').get('data-total'))\n",
    "\n",
    "# products per page\n",
    "products_per_page = int(p.find('h2').get('data-items-shown'))\n",
    "\n",
    "# rounding up numer of pages needed for web scraping\n",
    "total_pages = np.ceil(all_products/products_per_page)\n"
   ]
  },
  {
   "cell_type": "markdown",
   "metadata": {},
   "source": [
    "##  All products in Home Page Scraping"
   ]
  },
  {
   "cell_type": "code",
   "execution_count": 5,
   "metadata": {},
   "outputs": [],
   "source": [
    "# creating a page with all products\n",
    "url_all_prods = url + '?&offset=0&page-size={}'.format(int(total_pages*products_per_page))\n",
    "\n",
    "all_prods = requests.get(url = url_all_prods, headers=headers)"
   ]
  },
  {
   "cell_type": "code",
   "execution_count": 6,
   "metadata": {},
   "outputs": [],
   "source": [
    "soup = BeautifulSoup(all_prods.text, 'html.parser')#.get('li', class_='product-item')\n",
    "\n",
    "# soup.find('li', class_ = 'product-item').find('a').get('href') #.get('item-link')  #.get('item-link') #, class_ = 'item-link')\n",
    "# all find all products listed in homepage\n",
    "products = soup.find_all('li', class_='product-item')\n",
    "\n",
    "# get link to all projects\n",
    "home_links = ['https://www2.hm.com' + link.find('a').get('href') for link in products ]"
   ]
  },
  {
   "cell_type": "markdown",
   "metadata": {},
   "source": [
    "##  All products in Each Product Page"
   ]
  },
  {
   "cell_type": "code",
   "execution_count": 7,
   "metadata": {},
   "outputs": [],
   "source": [
    "# resulting list of all products to scrap\n",
    "links = []\n",
    "\n",
    "for link in home_links:\n",
    "    # scrap each product in home page list\n",
    "    single_product = requests.get(link, headers = headers)\n",
    "    soup = BeautifulSoup(single_product.text, 'html.parser')\n",
    "\n",
    "    # gets the links to all products listed in a page\n",
    "    products_ul = soup.find('ul', class_='inputlist clearfix')\n",
    "    products = products_ul.find_all('a')\n",
    "\n",
    "    links_ul = []\n",
    "    links_ul = [ 'https://www2.hm.com' + item.get('href') for item in products]\n",
    "    links.extend(links_ul)"
   ]
  },
  {
   "cell_type": "code",
   "execution_count": 38,
   "metadata": {},
   "outputs": [],
   "source": [
    "# getting all unique products listed\n",
    "\n",
    "# converting to a set and then back to list\n",
    "links = list(set(links))\n",
    "links.sort()"
   ]
  },
  {
   "cell_type": "code",
   "execution_count": 355,
   "metadata": {},
   "outputs": [],
   "source": [
    "# defining base dataframe\n",
    "df_prods = pd.DataFrame(columns=['product_id', 'color', 'style_id', 'color_id', 'link'])\n",
    "\n",
    "for link in home_links:\n",
    "    \n",
    "    # scrap each product in home page list\n",
    "    single_product = requests.get(link, headers = headers)\n",
    "    soup = BeautifulSoup(single_product.text, 'html.parser')\n",
    "\n",
    "    # scrap all products listed in a page\n",
    "    products_ul = soup.find('ul', class_='inputlist clearfix')\n",
    "    products = products_ul.find_all('a')\n",
    "\n",
    "    for product in products:\n",
    "        \n",
    "        #product it\n",
    "        product_id = product.get('data-articlecode')\n",
    "\n",
    "        # color\n",
    "        color = product.get('data-color')\n",
    "        \n",
    "        # style id\n",
    "        style_id = product_id[:-3]\n",
    "        \n",
    "        # style id\n",
    "        color_id = product_id[-3:]\n",
    "\n",
    "        # link\n",
    "        link = 'https://www2.hm.com/en_us/productpage.{}.html'.format(product_id)\n",
    "\n",
    "        df_temp = pd.DataFrame( {'product_id': product_id, 'color': color, 'style_id' :style_id, 'color_id' : color_id, 'link': link}, index = [0] )\n",
    "        \n",
    "        df_prods = pd.concat([df_prods, df_temp], axis = 0)\n",
    "\n",
    "\n",
    "df_prods.reset_index(inplace = True, drop = True)\n",
    "\n",
    "df_prods.drop_duplicates('product_id',inplace = True)"
   ]
  },
  {
   "cell_type": "code",
   "execution_count": 187,
   "metadata": {},
   "outputs": [],
   "source": [
    "# defining base dataframe\n",
    "# df_prods = pd.DataFrame(columns=['product_id', 'color', 'style_id', 'color_id', 'link'])\n",
    "df_prods = pd.DataFrame()\n",
    "\n",
    "for link in links[:5]:\n",
    "    \n",
    "    # scrap each product in home page list\n",
    "    single_product = requests.get(link, headers = headers)\n",
    "    soup = BeautifulSoup(single_product.text, 'html.parser')\n",
    "    \n",
    "    # scrap all products listed in a page\n",
    "    products_ul = soup.find('ul', class_='inputlist clearfix')\n",
    "    products = products_ul.find_all('a')\n",
    "\n",
    "    # product headline\n",
    "    headline = soup.find('h1', class_='primary product-item-headline').text\n",
    "\n",
    "\n",
    "    for product in products:\n",
    "        \n",
    "        #product it\n",
    "        sku = product.get('data-articlecode')\n",
    "       \n",
    "        # color\n",
    "        color = product.get('data-color')\n",
    "        \n",
    "        # product id\n",
    "        product_id = sku[:-3]\n",
    "        \n",
    "        # style id\n",
    "        color_id = sku[-3:]\n",
    "\n",
    "        # link\n",
    "        link = 'https://www2.hm.com/en_us/productpage.{}.html'.format(product_id)\n",
    "\n",
    "        df_temp = pd.DataFrame( {'sku': sku, 'product_id' :product_id, 'color_id' : color_id, 'color': color, 'headline' : headline, 'link': link}, index = [0] )\n",
    "        \n",
    "        df_prods = pd.concat([df_prods, df_temp], axis = 0)\n",
    "\n",
    "\n",
    "df_prods.reset_index(inplace = True, drop = True)\n",
    "\n",
    "df_prods.drop_duplicates('sku',inplace = True)"
   ]
  },
  {
   "cell_type": "code",
   "execution_count": 196,
   "metadata": {},
   "outputs": [
    {
     "data": {
      "text/plain": [
       "<section class=\"name-price\">\n",
       "<h1 class=\"primary product-item-headline\">\n",
       "\t\t\t\t\t\t\t  Trashed Skinny Jeans</h1>\n",
       "<div class=\"price parbase\"><div class=\"primary-row product-item-price\">\n",
       "<span class=\"price-value\">\n",
       "                $39.99</span>\n",
       "</div>\n",
       "</div>\n",
       "<hm-comparative-price id=\"comparative-price\" price-per-unit=\"\" unit=\"\"></hm-comparative-price>\n",
       "</section>"
      ]
     },
     "execution_count": 196,
     "metadata": {},
     "output_type": "execute_result"
    }
   ],
   "source": [
    "soup.find('div', class_='price parbase')\n",
    "soup.find('div', class_='primary-row product-item-price')\n",
    "soup.find('div', class_='ProductPrice-module--productItemPrice__2i2Hc')\n",
    "soup.find('section', class_='name-price')"
   ]
  },
  {
   "cell_type": "code",
   "execution_count": 188,
   "metadata": {},
   "outputs": [
    {
     "data": {
      "text/html": [
       "<div>\n",
       "<style scoped>\n",
       "    .dataframe tbody tr th:only-of-type {\n",
       "        vertical-align: middle;\n",
       "    }\n",
       "\n",
       "    .dataframe tbody tr th {\n",
       "        vertical-align: top;\n",
       "    }\n",
       "\n",
       "    .dataframe thead th {\n",
       "        text-align: right;\n",
       "    }\n",
       "</style>\n",
       "<table border=\"1\" class=\"dataframe\">\n",
       "  <thead>\n",
       "    <tr style=\"text-align: right;\">\n",
       "      <th></th>\n",
       "      <th>sku</th>\n",
       "      <th>product_id</th>\n",
       "      <th>color_id</th>\n",
       "      <th>color</th>\n",
       "      <th>headline</th>\n",
       "      <th>link</th>\n",
       "    </tr>\n",
       "  </thead>\n",
       "  <tbody>\n",
       "    <tr>\n",
       "      <th>0</th>\n",
       "      <td>0427159001</td>\n",
       "      <td>0427159</td>\n",
       "      <td>001</td>\n",
       "      <td>Black denim</td>\n",
       "      <td>\\n\\t\\t\\t\\t\\t\\t\\t  Trashed Skinny Jeans</td>\n",
       "      <td>https://www2.hm.com/en_us/productpage.0427159....</td>\n",
       "    </tr>\n",
       "    <tr>\n",
       "      <th>1</th>\n",
       "      <td>0427159002</td>\n",
       "      <td>0427159</td>\n",
       "      <td>002</td>\n",
       "      <td>Blue washed out</td>\n",
       "      <td>\\n\\t\\t\\t\\t\\t\\t\\t  Trashed Skinny Jeans</td>\n",
       "      <td>https://www2.hm.com/en_us/productpage.0427159....</td>\n",
       "    </tr>\n",
       "    <tr>\n",
       "      <th>2</th>\n",
       "      <td>0427159003</td>\n",
       "      <td>0427159</td>\n",
       "      <td>003</td>\n",
       "      <td>Denim blue</td>\n",
       "      <td>\\n\\t\\t\\t\\t\\t\\t\\t  Trashed Skinny Jeans</td>\n",
       "      <td>https://www2.hm.com/en_us/productpage.0427159....</td>\n",
       "    </tr>\n",
       "    <tr>\n",
       "      <th>3</th>\n",
       "      <td>0427159004</td>\n",
       "      <td>0427159</td>\n",
       "      <td>004</td>\n",
       "      <td>Light denim blue</td>\n",
       "      <td>\\n\\t\\t\\t\\t\\t\\t\\t  Trashed Skinny Jeans</td>\n",
       "      <td>https://www2.hm.com/en_us/productpage.0427159....</td>\n",
       "    </tr>\n",
       "    <tr>\n",
       "      <th>4</th>\n",
       "      <td>0427159005</td>\n",
       "      <td>0427159</td>\n",
       "      <td>005</td>\n",
       "      <td>Dark denim blue</td>\n",
       "      <td>\\n\\t\\t\\t\\t\\t\\t\\t  Trashed Skinny Jeans</td>\n",
       "      <td>https://www2.hm.com/en_us/productpage.0427159....</td>\n",
       "    </tr>\n",
       "    <tr>\n",
       "      <th>5</th>\n",
       "      <td>0427159006</td>\n",
       "      <td>0427159</td>\n",
       "      <td>006</td>\n",
       "      <td>Light denim blue</td>\n",
       "      <td>\\n\\t\\t\\t\\t\\t\\t\\t  Trashed Skinny Jeans</td>\n",
       "      <td>https://www2.hm.com/en_us/productpage.0427159....</td>\n",
       "    </tr>\n",
       "    <tr>\n",
       "      <th>6</th>\n",
       "      <td>0427159007</td>\n",
       "      <td>0427159</td>\n",
       "      <td>007</td>\n",
       "      <td>Black washed out</td>\n",
       "      <td>\\n\\t\\t\\t\\t\\t\\t\\t  Trashed Skinny Jeans</td>\n",
       "      <td>https://www2.hm.com/en_us/productpage.0427159....</td>\n",
       "    </tr>\n",
       "    <tr>\n",
       "      <th>7</th>\n",
       "      <td>0427159008</td>\n",
       "      <td>0427159</td>\n",
       "      <td>008</td>\n",
       "      <td>Denim blue</td>\n",
       "      <td>\\n\\t\\t\\t\\t\\t\\t\\t  Trashed Skinny Jeans</td>\n",
       "      <td>https://www2.hm.com/en_us/productpage.0427159....</td>\n",
       "    </tr>\n",
       "    <tr>\n",
       "      <th>8</th>\n",
       "      <td>0427159010</td>\n",
       "      <td>0427159</td>\n",
       "      <td>010</td>\n",
       "      <td>White denim</td>\n",
       "      <td>\\n\\t\\t\\t\\t\\t\\t\\t  Trashed Skinny Jeans</td>\n",
       "      <td>https://www2.hm.com/en_us/productpage.0427159....</td>\n",
       "    </tr>\n",
       "    <tr>\n",
       "      <th>9</th>\n",
       "      <td>0427159011</td>\n",
       "      <td>0427159</td>\n",
       "      <td>011</td>\n",
       "      <td>Light blue washed out</td>\n",
       "      <td>\\n\\t\\t\\t\\t\\t\\t\\t  Trashed Skinny Jeans</td>\n",
       "      <td>https://www2.hm.com/en_us/productpage.0427159....</td>\n",
       "    </tr>\n",
       "    <tr>\n",
       "      <th>10</th>\n",
       "      <td>0427159017</td>\n",
       "      <td>0427159</td>\n",
       "      <td>017</td>\n",
       "      <td>Super light denim blue</td>\n",
       "      <td>\\n\\t\\t\\t\\t\\t\\t\\t  Trashed Skinny Jeans</td>\n",
       "      <td>https://www2.hm.com/en_us/productpage.0427159....</td>\n",
       "    </tr>\n",
       "    <tr>\n",
       "      <th>11</th>\n",
       "      <td>0427159022</td>\n",
       "      <td>0427159</td>\n",
       "      <td>022</td>\n",
       "      <td>Black/trashed</td>\n",
       "      <td>\\n\\t\\t\\t\\t\\t\\t\\t  Trashed Skinny Jeans</td>\n",
       "      <td>https://www2.hm.com/en_us/productpage.0427159....</td>\n",
       "    </tr>\n",
       "    <tr>\n",
       "      <th>12</th>\n",
       "      <td>0427159023</td>\n",
       "      <td>0427159</td>\n",
       "      <td>023</td>\n",
       "      <td>Light denim blue</td>\n",
       "      <td>\\n\\t\\t\\t\\t\\t\\t\\t  Trashed Skinny Jeans</td>\n",
       "      <td>https://www2.hm.com/en_us/productpage.0427159....</td>\n",
       "    </tr>\n",
       "    <tr>\n",
       "      <th>13</th>\n",
       "      <td>0427159025</td>\n",
       "      <td>0427159</td>\n",
       "      <td>025</td>\n",
       "      <td>Denim blue/bleached</td>\n",
       "      <td>\\n\\t\\t\\t\\t\\t\\t\\t  Trashed Skinny Jeans</td>\n",
       "      <td>https://www2.hm.com/en_us/productpage.0427159....</td>\n",
       "    </tr>\n",
       "    <tr>\n",
       "      <th>14</th>\n",
       "      <td>0427159027</td>\n",
       "      <td>0427159</td>\n",
       "      <td>027</td>\n",
       "      <td>Black/bleached</td>\n",
       "      <td>\\n\\t\\t\\t\\t\\t\\t\\t  Trashed Skinny Jeans</td>\n",
       "      <td>https://www2.hm.com/en_us/productpage.0427159....</td>\n",
       "    </tr>\n",
       "  </tbody>\n",
       "</table>\n",
       "</div>"
      ],
      "text/plain": [
       "           sku product_id color_id                   color  \\\n",
       "0   0427159001    0427159      001             Black denim   \n",
       "1   0427159002    0427159      002         Blue washed out   \n",
       "2   0427159003    0427159      003              Denim blue   \n",
       "3   0427159004    0427159      004        Light denim blue   \n",
       "4   0427159005    0427159      005         Dark denim blue   \n",
       "5   0427159006    0427159      006        Light denim blue   \n",
       "6   0427159007    0427159      007        Black washed out   \n",
       "7   0427159008    0427159      008              Denim blue   \n",
       "8   0427159010    0427159      010             White denim   \n",
       "9   0427159011    0427159      011   Light blue washed out   \n",
       "10  0427159017    0427159      017  Super light denim blue   \n",
       "11  0427159022    0427159      022           Black/trashed   \n",
       "12  0427159023    0427159      023        Light denim blue   \n",
       "13  0427159025    0427159      025     Denim blue/bleached   \n",
       "14  0427159027    0427159      027          Black/bleached   \n",
       "\n",
       "                                  headline  \\\n",
       "0   \\n\\t\\t\\t\\t\\t\\t\\t  Trashed Skinny Jeans   \n",
       "1   \\n\\t\\t\\t\\t\\t\\t\\t  Trashed Skinny Jeans   \n",
       "2   \\n\\t\\t\\t\\t\\t\\t\\t  Trashed Skinny Jeans   \n",
       "3   \\n\\t\\t\\t\\t\\t\\t\\t  Trashed Skinny Jeans   \n",
       "4   \\n\\t\\t\\t\\t\\t\\t\\t  Trashed Skinny Jeans   \n",
       "5   \\n\\t\\t\\t\\t\\t\\t\\t  Trashed Skinny Jeans   \n",
       "6   \\n\\t\\t\\t\\t\\t\\t\\t  Trashed Skinny Jeans   \n",
       "7   \\n\\t\\t\\t\\t\\t\\t\\t  Trashed Skinny Jeans   \n",
       "8   \\n\\t\\t\\t\\t\\t\\t\\t  Trashed Skinny Jeans   \n",
       "9   \\n\\t\\t\\t\\t\\t\\t\\t  Trashed Skinny Jeans   \n",
       "10  \\n\\t\\t\\t\\t\\t\\t\\t  Trashed Skinny Jeans   \n",
       "11  \\n\\t\\t\\t\\t\\t\\t\\t  Trashed Skinny Jeans   \n",
       "12  \\n\\t\\t\\t\\t\\t\\t\\t  Trashed Skinny Jeans   \n",
       "13  \\n\\t\\t\\t\\t\\t\\t\\t  Trashed Skinny Jeans   \n",
       "14  \\n\\t\\t\\t\\t\\t\\t\\t  Trashed Skinny Jeans   \n",
       "\n",
       "                                                 link  \n",
       "0   https://www2.hm.com/en_us/productpage.0427159....  \n",
       "1   https://www2.hm.com/en_us/productpage.0427159....  \n",
       "2   https://www2.hm.com/en_us/productpage.0427159....  \n",
       "3   https://www2.hm.com/en_us/productpage.0427159....  \n",
       "4   https://www2.hm.com/en_us/productpage.0427159....  \n",
       "5   https://www2.hm.com/en_us/productpage.0427159....  \n",
       "6   https://www2.hm.com/en_us/productpage.0427159....  \n",
       "7   https://www2.hm.com/en_us/productpage.0427159....  \n",
       "8   https://www2.hm.com/en_us/productpage.0427159....  \n",
       "9   https://www2.hm.com/en_us/productpage.0427159....  \n",
       "10  https://www2.hm.com/en_us/productpage.0427159....  \n",
       "11  https://www2.hm.com/en_us/productpage.0427159....  \n",
       "12  https://www2.hm.com/en_us/productpage.0427159....  \n",
       "13  https://www2.hm.com/en_us/productpage.0427159....  \n",
       "14  https://www2.hm.com/en_us/productpage.0427159....  "
      ]
     },
     "execution_count": 188,
     "metadata": {},
     "output_type": "execute_result"
    }
   ],
   "source": [
    "df_prods"
   ]
  },
  {
   "cell_type": "markdown",
   "metadata": {},
   "source": [
    "## Individual Scraping Selenium\n"
   ]
  },
  {
   "cell_type": "markdown",
   "metadata": {},
   "source": [
    "### Output Format"
   ]
  },
  {
   "cell_type": "code",
   "execution_count": 154,
   "metadata": {},
   "outputs": [],
   "source": [
    "df_b = pd.read_csv('./backups/df_backup-2021-12-14_16_43_22.csv')"
   ]
  },
  {
   "cell_type": "code",
   "execution_count": 164,
   "metadata": {},
   "outputs": [
    {
     "data": {
      "text/plain": [
       "Index(['Art. No.', 'style_id', 'color_id', 'color', 'Fit', 'Price',\n",
       "       'Composition', 'texts', 'Cotton', 'Polyester', 'Elastane',\n",
       "       'Elasterell-P', 'Modal', 'Viscose', 'link', 'date'],\n",
       "      dtype='object')"
      ]
     },
     "execution_count": 164,
     "metadata": {},
     "output_type": "execute_result"
    }
   ],
   "source": [
    "df_b.Fit.unique()\n",
    "df_b.Composition[0]\n",
    "# df_b.texts[0]\n",
    "df_b.columns"
   ]
  },
  {
   "cell_type": "markdown",
   "metadata": {},
   "source": [
    "sku, product_id, color_id, color, fit, price, head_line, text, 'cotton', 'polyester', 'elastane', 'elasterell_p', 'spandex' 'modal', 'viscose'\n",
    "pocket_lining, "
   ]
  },
  {
   "cell_type": "markdown",
   "metadata": {},
   "source": [
    "## Individual Scraping"
   ]
  },
  {
   "cell_type": "markdown",
   "metadata": {},
   "source": [
    "### Scraping Data"
   ]
  },
  {
   "cell_type": "code",
   "execution_count": 198,
   "metadata": {},
   "outputs": [],
   "source": [
    "from selenium import webdriver\n",
    "from selenium.webdriver.firefox.options import Options\n",
    "from selenium.webdriver.common.by import By\n",
    "\n",
    "options = Options()\n",
    "options.headless = True\n",
    "driver = webdriver.Firefox(options=options)"
   ]
  },
  {
   "cell_type": "code",
   "execution_count": 200,
   "metadata": {},
   "outputs": [
    {
     "data": {
      "text/plain": [
       "'https://www2.hm.com/en_us/productpage.0427159001.html'"
      ]
     },
     "execution_count": 200,
     "metadata": {},
     "output_type": "execute_result"
    }
   ],
   "source": [
    "links[0]"
   ]
  },
  {
   "cell_type": "markdown",
   "metadata": {},
   "source": [
    "### Text"
   ]
  },
  {
   "cell_type": "code",
   "execution_count": 236,
   "metadata": {},
   "outputs": [],
   "source": [
    "# driver.get(links[0])\n",
    "driver.get(\"https://www2.hm.com/en_us/productpage.1024256004.html\")"
   ]
  },
  {
   "cell_type": "code",
   "execution_count": 237,
   "metadata": {},
   "outputs": [
    {
     "name": "stdout",
     "output_type": "stream",
     "text": [
      "FitSlim fit\n",
      "CompositionShell: Cotton 99%, Spandex 1%Pocket lining: Polyester 65%, Cotton 35%\n",
      "More sustainable materialsLining: Recycled polyester 65%, Recycled cotton 10%Shell: Recycled cotton 20%\n",
      "Art. No.1024256004\n"
     ]
    }
   ],
   "source": [
    "elements = driver.find_elements(by=By.CLASS_NAME, value=\"ProductAttributesList-module--descriptionListItem__3vUL2\")\n",
    "for e in elements:\n",
    "    print(e.text)\n"
   ]
  },
  {
   "cell_type": "code",
   "execution_count": 260,
   "metadata": {},
   "outputs": [
    {
     "data": {
      "text/plain": [
       "['FitSlim fit',\n",
       " 'CompositionShell: Cotton 99%, Spandex 1%Pocket lining: Polyester 65%, Cotton 35%',\n",
       " 'More sustainable materialsLining: Recycled polyester 65%, Recycled cotton 10%Shell: Recycled cotton 20%',\n",
       " 'Art. No.1024256004']"
      ]
     },
     "execution_count": 260,
     "metadata": {},
     "output_type": "execute_result"
    }
   ],
   "source": [
    "text = str()\n",
    "\n",
    "text = [text + line.text  for line  in elements]\n",
    "text"
   ]
  },
  {
   "cell_type": "code",
   "execution_count": 272,
   "metadata": {},
   "outputs": [],
   "source": [
    "# searching for words fit and composition in all text retrieved from products web page\n",
    "\n",
    "for element in text:\n",
    "    if 'fit' in element:\n",
    "        fit = element\n",
    "    if 'Composition' in element:\n",
    "        Composition = element"
   ]
  },
  {
   "cell_type": "code",
   "execution_count": 289,
   "metadata": {},
   "outputs": [],
   "source": [
    "driver.quit()"
   ]
  },
  {
   "cell_type": "code",
   "execution_count": 285,
   "metadata": {},
   "outputs": [
    {
     "data": {
      "text/plain": [
       "'Slim'"
      ]
     },
     "execution_count": 285,
     "metadata": {},
     "output_type": "execute_result"
    }
   ],
   "source": [
    "# positive lookbehind + words I'm searching + positive lookahead\n",
    "regex = \"(?<=Fit)(.*)(?= fit)\"\n",
    "fit_result = re.findall(regex, fit)[0]\n",
    "fit_result"
   ]
  },
  {
   "cell_type": "code",
   "execution_count": null,
   "metadata": {},
   "outputs": [],
   "source": [
    "texts = []\n",
    "for text in df['Composition']:\n",
    "    if 'Pocket' in text:\n",
    "        regex = '(Shell: .* Pocket|Shell.*%|Cotton.* Pocket|% Cotton.*)'\n",
    "        texts.append(re.findall( regex, text)[0])\n",
    "    else:\n",
    "        regex = '(Cotton.*Lining|Cotton.*%)'\n",
    "        texts.append(re.findall( regex, text)[0])\n",
    "\n",
    "df = pd.DataFrame()\n",
    "df['texts'] = texts\n",
    "df_comp = df[['Composition', 'texts']].copy()\n",
    "df_comp[[ 'Cotton', 'Polyester', 'Elastane', 'Elasterell-P', 'Modal', 'Viscose' ]] = 0\n",
    "\n",
    "for row in range(len( df_comp) ):\n",
    "    text = str( df_comp.loc[row,'texts'])\n",
    "    cotton_res = re.findall( 'Cotton [0-9]*%' , text)\n",
    "    poly_res = re.findall( 'Polyester [0-9]*%' , text)\n",
    "    elas_res = re.findall( 'Elastane [0-9]*%' , text)\n",
    "    elasrell_res = re.findall( 'Elasterell-P [0-9]*%' , text)\n",
    "    modal_res = re.findall( 'Modal [0-9]*%', text)\n",
    "    visc_res = re.findall( 'Viscose [0-9]*%', text)"
   ]
  },
  {
   "cell_type": "code",
   "execution_count": 234,
   "metadata": {},
   "outputs": [
    {
     "data": {
      "text/plain": [
       "'5-pocket jeans in stretch cotton denim. Regular waist, zip fly with button, and slim legs.'"
      ]
     },
     "execution_count": 234,
     "metadata": {},
     "output_type": "execute_result"
    }
   ],
   "source": [
    "elements = driver.find_element(by=By.CLASS_NAME, value = \"ProductDescription-module--descriptionText__1zy9P\")\n",
    "elements.text\n"
   ]
  },
  {
   "cell_type": "code",
   "execution_count": 110,
   "metadata": {},
   "outputs": [
    {
     "data": {
      "text/plain": [
       "'https://www2.hm.com/en_us/productpage.0427159010.html'"
      ]
     },
     "execution_count": 110,
     "metadata": {},
     "output_type": "execute_result"
    }
   ],
   "source": [
    "links[]"
   ]
  },
  {
   "cell_type": "code",
   "execution_count": 144,
   "metadata": {},
   "outputs": [],
   "source": [
    "driver.get(\"https://www2.hm.com/en_us/productpage.1024256001.html\")"
   ]
  },
  {
   "cell_type": "code",
   "execution_count": 150,
   "metadata": {},
   "outputs": [
    {
     "name": "stdout",
     "output_type": "stream",
     "text": [
      "FitSkinny fit\n",
      "CompositionCotton 91%, Polyester 7%, Spandex 2%\n",
      "Art. No.0427159001\n"
     ]
    }
   ],
   "source": [
    "elements = driver.find_elements(by=By.CLASS_NAME, value=\"ProductAttributesList-module--descriptionListItem__3vUL2\")\n",
    "for e in elements:\n",
    "    print(e.text)\n"
   ]
  },
  {
   "cell_type": "code",
   "execution_count": 151,
   "metadata": {},
   "outputs": [
    {
     "data": {
      "text/plain": [
       "'5-pocket jeans in washed stretch denim. Heavily distressed details, regular waist, and button fly. Skinny legs.'"
      ]
     },
     "execution_count": 151,
     "metadata": {},
     "output_type": "execute_result"
    }
   ],
   "source": [
    "elements = driver.find_element(by=By.CLASS_NAME, value = \"ProductDescription-module--descriptionText__1zy9P\")\n",
    "elements.text\n"
   ]
  },
  {
   "cell_type": "code",
   "execution_count": 152,
   "metadata": {},
   "outputs": [],
   "source": [
    "driver.quit()"
   ]
  },
  {
   "cell_type": "code",
   "execution_count": 217,
   "metadata": {},
   "outputs": [],
   "source": [
    "driver.get(\"https://www2.hm.com/en_us/productpage.0427159022.html\")\n",
    "# driver.get(\"https://www2.hm.com/en_us/productpage.1008110003.html\")"
   ]
  },
  {
   "cell_type": "code",
   "execution_count": 220,
   "metadata": {},
   "outputs": [],
   "source": [
    "from selenium.webdriver.support.ui import WebDriverWait"
   ]
  },
  {
   "cell_type": "code",
   "execution_count": 229,
   "metadata": {},
   "outputs": [
    {
     "data": {
      "text/plain": [
       "'$39.99$9.99'"
      ]
     },
     "execution_count": 229,
     "metadata": {},
     "output_type": "execute_result"
    }
   ],
   "source": [
    "driver.get(\"https://www2.hm.com/en_us/productpage.0427159022.html\")\n",
    "# driver.get(\"https://www2.hm.com/en_us/productpage.1008110003.html\")\n",
    "\n",
    "\n",
    "content = WebDriverWait(driver, timeout=10).until(lambda x: x.find_element(by=By.CLASS_NAME, value='ProductPrice-module--productItemPrice__2i2Hc'))\n",
    "# content = driver.find_element(by=By.CLASS_NAME, value='ProductPrice-module--productItemPrice__2i2Hc')\n",
    "content.text"
   ]
  },
  {
   "cell_type": "markdown",
   "metadata": {},
   "source": [
    "# TODO\n",
    "\n",
    "- separate compositions\n",
    "- create feature ispromo\n",
    "- create final df"
   ]
  },
  {
   "cell_type": "code",
   "execution_count": 326,
   "metadata": {},
   "outputs": [],
   "source": [
    "# SAVING THIS FOR REFERENCE IN CASE NEEDED LATER\n",
    "\n",
    "# soup.find_all('a', class_='swatch')#[0].get('title')\n",
    "# elements = soup.find_all('a', class_='swatch')\n",
    "\n",
    "# df = pd.DataFrame(columns=['product_id', 'color', 'style_id', 'color_id', 'link'])\n",
    "\n",
    "# for element in elements:\n",
    "#     # article number\n",
    "#     product_id = element.get('href').split('.')[1]\n",
    "    \n",
    "#     # color\n",
    "#     color = element.get('title')\n",
    "\n",
    "#     # style id\n",
    "#     style_id = product_id[:-3]\n",
    "    \n",
    "#     # style id\n",
    "#     color_id = product_id[-3:]\n",
    "\n",
    "#     # link\n",
    "#     link = 'https://www2.hm.com/en_us/productpage.{}.html'.format(product_id)\n",
    "\n",
    "#     df_temp = pd.DataFrame( {'product_id': product_id, 'color': color, 'style_id' :style_id, 'color_id' : color_id, 'link': link}, index = [0] )\n",
    "    \n",
    "#     df = pd.concat([df, df_temp], axis = 0)\n",
    "\n",
    "# df.reset_index(inplace = True, drop = True)\n"
   ]
  },
  {
   "cell_type": "markdown",
   "metadata": {},
   "source": [
    "# Data Parsing"
   ]
  },
  {
   "cell_type": "code",
   "execution_count": null,
   "metadata": {},
   "outputs": [],
   "source": []
  },
  {
   "cell_type": "code",
   "execution_count": null,
   "metadata": {},
   "outputs": [],
   "source": []
  },
  {
   "cell_type": "markdown",
   "metadata": {},
   "source": [
    "# Data Saving"
   ]
  },
  {
   "cell_type": "code",
   "execution_count": null,
   "metadata": {},
   "outputs": [],
   "source": []
  },
  {
   "cell_type": "code",
   "execution_count": null,
   "metadata": {},
   "outputs": [],
   "source": []
  },
  {
   "cell_type": "code",
   "execution_count": null,
   "metadata": {},
   "outputs": [],
   "source": []
  },
  {
   "cell_type": "code",
   "execution_count": null,
   "metadata": {},
   "outputs": [],
   "source": []
  },
  {
   "cell_type": "code",
   "execution_count": null,
   "metadata": {},
   "outputs": [],
   "source": []
  }
 ],
 "metadata": {
  "interpreter": {
   "hash": "e351bda13fd12210c56cd25328508007dc56e1370bfddb216f0f5bba4101204e"
  },
  "kernelspec": {
   "display_name": "Python 3.8.0 64-bit ('web_scraping')",
   "language": "python",
   "name": "python3"
  },
  "language_info": {
   "codemirror_mode": {
    "name": "ipython",
    "version": 3
   },
   "file_extension": ".py",
   "mimetype": "text/x-python",
   "name": "python",
   "nbconvert_exporter": "python",
   "pygments_lexer": "ipython3",
   "version": "3.8.0"
  },
  "orig_nbformat": 4
 },
 "nbformat": 4,
 "nbformat_minor": 2
}
